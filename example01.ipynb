{
 "cells": [
  {
   "cell_type": "markdown",
   "metadata": {},
   "source": [
    "## Classification Example\n",
    "### from Geron, 2nd Edition, chapter 10"
   ]
  },
  {
   "cell_type": "code",
   "execution_count": 1,
   "metadata": {
    "pycharm": {
     "name": "#%%\n"
    }
   },
   "outputs": [
    {
     "data": {
      "text/plain": [
       "'2.11.0'"
      ]
     },
     "execution_count": 1,
     "metadata": {},
     "output_type": "execute_result"
    }
   ],
   "source": [
    "import tensorflow as tf\n",
    "from tensorflow import keras\n",
    "\n",
    "tf.__version__"
   ]
  },
  {
   "cell_type": "code",
   "execution_count": 2,
   "metadata": {
    "pycharm": {
     "name": "#%%\n"
    }
   },
   "outputs": [
    {
     "data": {
      "text/plain": [
       "'2.11.0'"
      ]
     },
     "execution_count": 2,
     "metadata": {},
     "output_type": "execute_result"
    }
   ],
   "source": [
    "keras.__version__"
   ]
  },
  {
   "cell_type": "code",
   "execution_count": 3,
   "metadata": {
    "pycharm": {
     "name": "#%%\n"
    }
   },
   "outputs": [],
   "source": [
    "tf.random.set_seed(1234)\n",
    "\n",
    "fashion_mnist = keras.datasets.fashion_mnist\n",
    "(X_train_full, y_train_full), (X_test, y_test) = fashion_mnist.load_data()"
   ]
  },
  {
   "cell_type": "code",
   "execution_count": 4,
   "metadata": {
    "pycharm": {
     "name": "#%%\n"
    }
   },
   "outputs": [],
   "source": [
    "X_valid, X_train = X_train_full[:5000] / 255.0, X_train_full[5000:] / 255.0\n",
    "y_valid, y_train = y_train_full[:5000], y_train_full[5000:]\n",
    "X_test = X_test / 255.0"
   ]
  },
  {
   "cell_type": "code",
   "execution_count": 5,
   "metadata": {
    "pycharm": {
     "name": "#%%\n"
    }
   },
   "outputs": [
    {
     "name": "stdout",
     "output_type": "stream",
     "text": [
      "Model: \"sequential\"\n",
      "_________________________________________________________________\n",
      " Layer (type)                Output Shape              Param #   \n",
      "=================================================================\n",
      " flatten (Flatten)           (None, 784)               0         \n",
      "                                                                 \n",
      " dense (Dense)               (None, 300)               235500    \n",
      "                                                                 \n",
      " dense_1 (Dense)             (None, 100)               30100     \n",
      "                                                                 \n",
      " dense_2 (Dense)             (None, 10)                1010      \n",
      "                                                                 \n",
      "=================================================================\n",
      "Total params: 266,610\n",
      "Trainable params: 266,610\n",
      "Non-trainable params: 0\n",
      "_________________________________________________________________\n"
     ]
    }
   ],
   "source": [
    "model = keras.models.Sequential()\n",
    "model.add(keras.layers.Flatten(input_shape=[28, 28]))\n",
    "model.add(keras.layers.Dense(300, activation=\"relu\"))\n",
    "model.add(keras.layers.Dense(100, activation=\"relu\"))\n",
    "model.add(keras.layers.Dense(10, activation=\"softmax\"))\n",
    "model.summary()"
   ]
  },
  {
   "cell_type": "code",
   "execution_count": 6,
   "metadata": {
    "pycharm": {
     "name": "#%%\n"
    }
   },
   "outputs": [],
   "source": [
    "model.compile(loss=\"sparse_categorical_crossentropy\",\n",
    "              optimizer=\"sgd\",\n",
    "              metrics=[\"accuracy\"])"
   ]
  },
  {
   "cell_type": "code",
   "execution_count": 7,
   "metadata": {
    "pycharm": {
     "name": "#%%\n"
    }
   },
   "outputs": [
    {
     "name": "stdout",
     "output_type": "stream",
     "text": [
      "Epoch 1/30\n",
<<<<<<< HEAD
      "1719/1719 [==============================] - 3s 2ms/step - loss: 0.7157 - accuracy: 0.7669 - val_loss: 0.5030 - val_accuracy: 0.8342\n",
      "Epoch 2/30\n",
      "1719/1719 [==============================] - 3s 2ms/step - loss: 0.4897 - accuracy: 0.8313 - val_loss: 0.4550 - val_accuracy: 0.8476\n",
      "Epoch 3/30\n",
      "1719/1719 [==============================] - 3s 2ms/step - loss: 0.4450 - accuracy: 0.8455 - val_loss: 0.4371 - val_accuracy: 0.8464\n",
      "Epoch 4/30\n",
      "1719/1719 [==============================] - 3s 2ms/step - loss: 0.4168 - accuracy: 0.8544 - val_loss: 0.3934 - val_accuracy: 0.8652\n",
      "Epoch 5/30\n",
      "1719/1719 [==============================] - 3s 2ms/step - loss: 0.3969 - accuracy: 0.8607 - val_loss: 0.3977 - val_accuracy: 0.8612\n",
      "Epoch 6/30\n",
      "1719/1719 [==============================] - 3s 2ms/step - loss: 0.3815 - accuracy: 0.8660 - val_loss: 0.3817 - val_accuracy: 0.8698\n",
      "Epoch 7/30\n",
      "1719/1719 [==============================] - 4s 2ms/step - loss: 0.3684 - accuracy: 0.8712 - val_loss: 0.3671 - val_accuracy: 0.8740\n",
      "Epoch 8/30\n",
      "1719/1719 [==============================] - 4s 2ms/step - loss: 0.3571 - accuracy: 0.8746 - val_loss: 0.3580 - val_accuracy: 0.8762\n",
=======
      "1719/1719 [==============================] - 6s 3ms/step - loss: 0.7100 - accuracy: 0.7648 - val_loss: 0.5055 - val_accuracy: 0.8340\n",
      "Epoch 2/30\n",
      "1719/1719 [==============================] - 5s 3ms/step - loss: 0.4873 - accuracy: 0.8289 - val_loss: 0.4471 - val_accuracy: 0.8464\n",
      "Epoch 3/30\n",
      "1719/1719 [==============================] - 6s 4ms/step - loss: 0.4433 - accuracy: 0.8437 - val_loss: 0.4387 - val_accuracy: 0.8426\n",
      "Epoch 4/30\n",
      "1719/1719 [==============================] - 6s 3ms/step - loss: 0.4154 - accuracy: 0.8537 - val_loss: 0.3936 - val_accuracy: 0.8642\n",
      "Epoch 5/30\n",
      "1719/1719 [==============================] - 5s 3ms/step - loss: 0.3958 - accuracy: 0.8599 - val_loss: 0.3964 - val_accuracy: 0.8602\n",
      "Epoch 6/30\n",
      "1719/1719 [==============================] - 5s 3ms/step - loss: 0.3807 - accuracy: 0.8660 - val_loss: 0.3853 - val_accuracy: 0.8644\n",
      "Epoch 7/30\n",
      "1719/1719 [==============================] - 5s 3ms/step - loss: 0.3675 - accuracy: 0.8698 - val_loss: 0.3697 - val_accuracy: 0.8694\n",
      "Epoch 8/30\n",
      "1719/1719 [==============================] - 5s 3ms/step - loss: 0.3568 - accuracy: 0.8736 - val_loss: 0.3621 - val_accuracy: 0.8754\n",
>>>>>>> bf03ad5b8bcfc2889beab5cd7330f3878f082536
      "Epoch 9/30\n",
      "1719/1719 [==============================] - 4s 2ms/step - loss: 0.3467 - accuracy: 0.8770 - val_loss: 0.3635 - val_accuracy: 0.8724\n",
      "Epoch 10/30\n",
      "1719/1719 [==============================] - 4s 2ms/step - loss: 0.3361 - accuracy: 0.8809 - val_loss: 0.3450 - val_accuracy: 0.8788\n",
      "Epoch 11/30\n",
      "1719/1719 [==============================] - 4s 2ms/step - loss: 0.3277 - accuracy: 0.8839 - val_loss: 0.3663 - val_accuracy: 0.8722\n",
      "Epoch 12/30\n",
      "1719/1719 [==============================] - 4s 2ms/step - loss: 0.3201 - accuracy: 0.8859 - val_loss: 0.3530 - val_accuracy: 0.8748\n",
      "Epoch 13/30\n",
      "1719/1719 [==============================] - 4s 2ms/step - loss: 0.3124 - accuracy: 0.8893 - val_loss: 0.3416 - val_accuracy: 0.8788\n",
      "Epoch 14/30\n",
      "1719/1719 [==============================] - 4s 2ms/step - loss: 0.3055 - accuracy: 0.8914 - val_loss: 0.3364 - val_accuracy: 0.8782\n",
      "Epoch 15/30\n",
      "1719/1719 [==============================] - 4s 2ms/step - loss: 0.2995 - accuracy: 0.8934 - val_loss: 0.3306 - val_accuracy: 0.8818\n",
      "Epoch 16/30\n",
      "1719/1719 [==============================] - 4s 3ms/step - loss: 0.2921 - accuracy: 0.8947 - val_loss: 0.3136 - val_accuracy: 0.8894\n",
      "Epoch 17/30\n",
      "1719/1719 [==============================] - 4s 3ms/step - loss: 0.2871 - accuracy: 0.8975 - val_loss: 0.3530 - val_accuracy: 0.8768\n",
      "Epoch 18/30\n",
      "1719/1719 [==============================] - 4s 3ms/step - loss: 0.2824 - accuracy: 0.8990 - val_loss: 0.3171 - val_accuracy: 0.8858\n",
      "Epoch 19/30\n",
      "1719/1719 [==============================] - 5s 3ms/step - loss: 0.2754 - accuracy: 0.9004 - val_loss: 0.3110 - val_accuracy: 0.8880\n",
      "Epoch 20/30\n",
      "1719/1719 [==============================] - 5s 3ms/step - loss: 0.2708 - accuracy: 0.9035 - val_loss: 0.3354 - val_accuracy: 0.8822\n",
      "Epoch 21/30\n",
      "1719/1719 [==============================] - 5s 3ms/step - loss: 0.2658 - accuracy: 0.9041 - val_loss: 0.3204 - val_accuracy: 0.8824\n",
      "Epoch 22/30\n",
      "1719/1719 [==============================] - 5s 3ms/step - loss: 0.2608 - accuracy: 0.9068 - val_loss: 0.3021 - val_accuracy: 0.8926\n",
      "Epoch 23/30\n",
      "1719/1719 [==============================] - 5s 3ms/step - loss: 0.2563 - accuracy: 0.9077 - val_loss: 0.3274 - val_accuracy: 0.8830\n",
      "Epoch 24/30\n",
      "1719/1719 [==============================] - 4s 2ms/step - loss: 0.2520 - accuracy: 0.9091 - val_loss: 0.3077 - val_accuracy: 0.8908\n",
      "Epoch 25/30\n",
      "1719/1719 [==============================] - 4s 2ms/step - loss: 0.2471 - accuracy: 0.9118 - val_loss: 0.2980 - val_accuracy: 0.8924\n",
      "Epoch 26/30\n",
      "1719/1719 [==============================] - 4s 2ms/step - loss: 0.2433 - accuracy: 0.9125 - val_loss: 0.2930 - val_accuracy: 0.8950\n",
      "Epoch 27/30\n",
      "1719/1719 [==============================] - 4s 3ms/step - loss: 0.2393 - accuracy: 0.9131 - val_loss: 0.2982 - val_accuracy: 0.8950\n",
      "Epoch 28/30\n",
      "1719/1719 [==============================] - 4s 3ms/step - loss: 0.2348 - accuracy: 0.9152 - val_loss: 0.2930 - val_accuracy: 0.8958\n",
      "Epoch 29/30\n",
      "1719/1719 [==============================] - 4s 3ms/step - loss: 0.2317 - accuracy: 0.9170 - val_loss: 0.2934 - val_accuracy: 0.8946\n",
      "Epoch 30/30\n",
      "1719/1719 [==============================] - 5s 3ms/step - loss: 0.2259 - accuracy: 0.9188 - val_loss: 0.2875 - val_accuracy: 0.8952\n"
     ]
    }
   ],
   "source": [
    "history = model.fit(X_train, y_train, epochs=30,\n",
    "                    validation_data=(X_valid, y_valid))"
   ]
  },
  {
   "cell_type": "code",
   "execution_count": 8,
   "metadata": {
    "pycharm": {
     "name": "#%%\n"
    }
   },
   "outputs": [
    {
     "data": {
      "image/png": "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\n",
      "text/plain": [
       "<Figure size 576x360 with 1 Axes>"
      ]
     },
     "metadata": {
      "needs_background": "light"
     },
     "output_type": "display_data"
    }
   ],
   "source": [
    "import pandas as pd\n",
    "import matplotlib.pyplot as plt\n",
    "\n",
    "pd.DataFrame(history.history).plot(figsize=(8, 5))\n",
    "plt.grid(True)\n",
    "plt.gca().set_ylim(0, 1) # set the vertical range to [0-1]\n",
    "plt.show()"
   ]
  },
  {
   "cell_type": "code",
   "execution_count": 9,
   "metadata": {
    "pycharm": {
     "name": "#%%\n"
    }
   },
   "outputs": [
    {
     "name": "stdout",
     "output_type": "stream",
     "text": [
      "313/313 [==============================] - 1s 2ms/step - loss: 0.3270 - accuracy: 0.8827\n"
     ]
    },
    {
     "data": {
      "text/plain": [
       "[0.32704517245292664, 0.8827000260353088]"
      ]
     },
     "execution_count": 9,
     "metadata": {},
     "output_type": "execute_result"
    }
   ],
   "source": [
    "model.evaluate(X_test, y_test)"
   ]
  },
  {
   "cell_type": "code",
   "execution_count": 10,
   "metadata": {
    "pycharm": {
     "name": "#%%\n"
    }
   },
   "outputs": [
    {
     "name": "stdout",
     "output_type": "stream",
     "text": [
<<<<<<< HEAD
      "1/1 [==============================] - 0s 84ms/step\n"
=======
      "1/1 [==============================] - 0s 83ms/step\n"
>>>>>>> bf03ad5b8bcfc2889beab5cd7330f3878f082536
     ]
    },
    {
     "data": {
      "text/plain": [
       "array([[0.  , 0.  , 0.  , 0.  , 0.  , 0.  , 0.  , 0.01, 0.  , 0.99],\n",
       "       [0.  , 0.  , 1.  , 0.  , 0.  , 0.  , 0.  , 0.  , 0.  , 0.  ],\n",
       "       [0.  , 1.  , 0.  , 0.  , 0.  , 0.  , 0.  , 0.  , 0.  , 0.  ]],\n",
       "      dtype=float32)"
      ]
     },
     "execution_count": 10,
     "metadata": {},
     "output_type": "execute_result"
    }
   ],
   "source": [
    "X_new = X_test[:3]\n",
    "y_proba = model.predict(X_new)\n",
    "y_proba.round(2)"
   ]
  },
  {
   "cell_type": "code",
   "execution_count": null,
   "metadata": {},
   "outputs": [],
   "source": []
  }
 ],
 "metadata": {
  "kernelspec": {
   "display_name": "Python 3",
   "language": "python",
   "name": "python3"
  },
  "language_info": {
   "codemirror_mode": {
    "name": "ipython",
    "version": 3
   },
   "file_extension": ".py",
   "mimetype": "text/x-python",
   "name": "python",
   "nbconvert_exporter": "python",
   "pygments_lexer": "ipython3",
   "version": "3.8.14"
  }
 },
 "nbformat": 4,
 "nbformat_minor": 1
}
