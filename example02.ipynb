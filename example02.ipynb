{
 "cells": [
  {
   "cell_type": "markdown",
   "metadata": {},
   "source": [
    "# Regression Example Using TensorFlow 2\n",
    "## from Geron, 2nd Edition"
   ]
  },
  {
   "cell_type": "code",
   "execution_count": 7,
   "metadata": {},
   "outputs": [
    {
     "data": {
      "text/plain": [
       "'2.3.1'"
      ]
     },
     "execution_count": 7,
     "metadata": {},
     "output_type": "execute_result"
    }
   ],
   "source": [
    "import tensorflow as tf\n",
    "from tensorflow import keras\n",
    "\n",
    "tf.__version__"
   ]
  },
  {
   "cell_type": "code",
   "execution_count": 8,
   "metadata": {},
   "outputs": [
    {
     "data": {
      "text/plain": [
       "'2.4.0'"
      ]
     },
     "execution_count": 8,
     "metadata": {},
     "output_type": "execute_result"
    }
   ],
   "source": [
    "keras.__version__"
   ]
  },
  {
   "cell_type": "code",
   "execution_count": 9,
   "metadata": {},
   "outputs": [
    {
     "name": "stdout",
     "output_type": "stream",
     "text": [
      "[[   8.3252       41.            6.98412698 ...    2.55555556\n",
      "    37.88       -122.23      ]\n",
      " [   8.3014       21.            6.23813708 ...    2.10984183\n",
      "    37.86       -122.22      ]\n",
      " [   7.2574       52.            8.28813559 ...    2.80225989\n",
      "    37.85       -122.24      ]\n",
      " ...\n",
      " [   1.7          17.            5.20554273 ...    2.3256351\n",
      "    39.43       -121.22      ]\n",
      " [   1.8672       18.            5.32951289 ...    2.12320917\n",
      "    39.43       -121.32      ]\n",
      " [   2.3886       16.            5.25471698 ...    2.61698113\n",
      "    39.37       -121.24      ]]\n",
      "[4.526 3.585 3.521 ... 0.923 0.847 0.894]\n",
      "8\n",
      "11610\n",
      "11610\n"
     ]
    },
    {
     "data": {
      "text/plain": [
       "(8,)"
      ]
     },
     "execution_count": 9,
     "metadata": {},
     "output_type": "execute_result"
    }
   ],
   "source": [
    "from sklearn.datasets import fetch_california_housing\n",
    "from sklearn.model_selection import train_test_split\n",
    "from sklearn.preprocessing import StandardScaler\n",
    "\n",
    "housing = fetch_california_housing()\n",
    "\n",
    "X_train_full, X_test, y_train_full, y_test = train_test_split(\n",
    "    housing.data, housing.target)\n",
    "X_train, X_valid, y_train, y_valid = train_test_split(\n",
    "    X_train_full, y_train_full)\n",
    "\n",
    "scaler = StandardScaler()\n",
    "X_train = scaler.fit_transform(X_train)\n",
    "X_valid = scaler.transform(X_valid)\n",
    "X_test = scaler.transform(X_test)\n",
    "\n",
    "print(housing.data)\n",
    "print(housing.target)\n",
    "print(len(housing.data[0]))\n",
    "print(len(X_train))\n",
    "print(len(y_train))\n",
    "X_train.shape[1:]"
   ]
  },
  {
   "cell_type": "markdown",
   "metadata": {},
   "source": [
    "### We have 11,610 records of X and y to train from.  The X contains 8 attributes, and the y are single values."
   ]
  },
  {
   "cell_type": "code",
   "execution_count": 10,
   "metadata": {},
   "outputs": [],
   "source": [
    "model = keras.models.Sequential([\n",
    "    keras.layers.Dense(8, activation=\"relu\", input_shape=X_train.shape[1:]),\n",
    "    keras.layers.Dense(1)\n",
    "])\n",
    "\n",
    "model.compile(loss=\"mean_squared_error\", optimizer=\"sgd\")"
   ]
  },
  {
   "cell_type": "code",
   "execution_count": 21,
   "metadata": {},
   "outputs": [
    {
     "name": "stdout",
     "output_type": "stream",
     "text": [
      "Epoch 1/20\n",
      "363/363 [==============================] - 0s 990us/step - loss: 0.9125 - val_loss: 0.6547\n",
      "Epoch 2/20\n",
      "363/363 [==============================] - 0s 806us/step - loss: 0.5584 - val_loss: 0.5509\n",
      "Epoch 3/20\n",
      "363/363 [==============================] - 0s 798us/step - loss: 0.5141 - val_loss: 0.5162\n",
      "Epoch 4/20\n",
      "363/363 [==============================] - 0s 753us/step - loss: 0.5164 - val_loss: 0.5121\n",
      "Epoch 5/20\n",
      "363/363 [==============================] - 0s 823us/step - loss: 0.4854 - val_loss: 0.4872\n",
      "Epoch 6/20\n",
      "363/363 [==============================] - 0s 784us/step - loss: 0.4834 - val_loss: 0.4795\n",
      "Epoch 7/20\n",
      "363/363 [==============================] - 0s 795us/step - loss: 0.4829 - val_loss: 0.4762\n",
      "Epoch 8/20\n",
      "363/363 [==============================] - 0s 786us/step - loss: 0.4670 - val_loss: 0.4709\n",
      "Epoch 9/20\n",
      "363/363 [==============================] - 0s 812us/step - loss: 0.4639 - val_loss: 0.4738\n",
      "Epoch 10/20\n",
      "363/363 [==============================] - 0s 811us/step - loss: 0.4531 - val_loss: 0.4575\n",
      "Epoch 11/20\n",
      "363/363 [==============================] - 0s 785us/step - loss: 0.4415 - val_loss: 0.4531\n",
      "Epoch 12/20\n",
      "363/363 [==============================] - 0s 812us/step - loss: 0.4356 - val_loss: 0.4452\n",
      "Epoch 13/20\n",
      "363/363 [==============================] - 0s 784us/step - loss: 0.4342 - val_loss: 0.4417\n",
      "Epoch 14/20\n",
      "363/363 [==============================] - 0s 827us/step - loss: 0.4275 - val_loss: 0.4458\n",
      "Epoch 15/20\n",
      "363/363 [==============================] - 0s 783us/step - loss: 0.4349 - val_loss: 0.4378\n",
      "Epoch 16/20\n",
      "363/363 [==============================] - 0s 793us/step - loss: 0.4381 - val_loss: 0.4430\n",
      "Epoch 17/20\n",
      "363/363 [==============================] - 0s 795us/step - loss: 0.4215 - val_loss: 0.4299\n",
      "Epoch 18/20\n",
      "363/363 [==============================] - 0s 851us/step - loss: 0.4217 - val_loss: 0.4339\n",
      "Epoch 19/20\n",
      "363/363 [==============================] - 0s 945us/step - loss: 0.4134 - val_loss: 0.4255\n",
      "Epoch 20/20\n",
      "363/363 [==============================] - 0s 863us/step - loss: 0.4100 - val_loss: 0.4232\n"
     ]
    }
   ],
   "source": [
    "history = model.fit(X_train, y_train, epochs=20,\n",
    "                    validation_data=(X_valid, y_valid))"
   ]
  },
  {
   "cell_type": "code",
   "execution_count": 22,
   "metadata": {},
   "outputs": [
    {
     "name": "stdout",
     "output_type": "stream",
     "text": [
      "162/162 [==============================] - 0s 521us/step - loss: 0.3993\n"
     ]
    },
    {
     "data": {
      "text/plain": [
       "0.39934536814689636"
      ]
     },
     "execution_count": 22,
     "metadata": {},
     "output_type": "execute_result"
    }
   ],
   "source": [
    "mse_test = model.evaluate(X_test, y_test)\n",
    "mse_test"
   ]
  },
  {
   "cell_type": "code",
   "execution_count": 23,
   "metadata": {},
   "outputs": [
    {
     "data": {
      "text/plain": [
       "array([[5.1036253],\n",
       "       [2.9212265],\n",
       "       [2.1466863]], dtype=float32)"
      ]
     },
     "execution_count": 23,
     "metadata": {},
     "output_type": "execute_result"
    }
   ],
   "source": [
    "X_new1 = X_test[:3] # pretend these are new instances\n",
    "y_pred1 = model.predict(X_new1)\n",
    "y_pred1"
   ]
  },
  {
   "cell_type": "code",
   "execution_count": 24,
   "metadata": {},
   "outputs": [
    {
     "data": {
      "text/plain": [
       "array([[5.1036253],\n",
       "       [2.9212265],\n",
       "       [2.1466863]], dtype=float32)"
      ]
     },
     "execution_count": 24,
     "metadata": {},
     "output_type": "execute_result"
    }
   ],
   "source": [
    "X_new2 = X_test[:3] # pretend these are new instances\n",
    "y_pred2 = model.predict(X_new2)\n",
    "y_pred2"
   ]
  },
  {
   "cell_type": "markdown",
   "metadata": {},
   "source": [
    "### Now set up TensorBoard"
   ]
  },
  {
   "cell_type": "code",
   "execution_count": 5,
   "metadata": {},
   "outputs": [],
   "source": [
    "import os\n",
    "root_logdir = os.path.join(os.curdir, \"my_logs\")\n",
    "\n",
    "def get_run_logdir():\n",
    "    import time\n",
    "    run_id = time.strftime(\"run_%Y_%m_%d-%H_%M_%S\")\n",
    "    return os.path.join(root_logdir, run_id)\n",
    "\n",
    "run_logdir = get_run_logdir() # e.g., './my_logs/run_2019_06_07-15_15_22'"
   ]
  },
  {
   "cell_type": "code",
   "execution_count": 11,
   "metadata": {},
   "outputs": [
    {
     "name": "stdout",
     "output_type": "stream",
     "text": [
      "Epoch 1/20\n",
      "  1/363 [..............................] - ETA: 0s - loss: 6.9559WARNING:tensorflow:From /usr/local/lib/python3.8/site-packages/tensorflow/python/ops/summary_ops_v2.py:1277: stop (from tensorflow.python.eager.profiler) is deprecated and will be removed after 2020-07-01.\n",
      "Instructions for updating:\n",
      "use `tf.profiler.experimental.stop` instead.\n",
      "WARNING:tensorflow:Callbacks method `on_train_batch_end` is slow compared to the batch time (batch time: 0.0015s vs `on_train_batch_end` time: 0.0273s). Check your callbacks.\n",
      "363/363 [==============================] - 0s 1ms/step - loss: 0.8852 - val_loss: 0.6128\n",
      "Epoch 2/20\n",
      "363/363 [==============================] - 0s 896us/step - loss: 0.4604 - val_loss: 0.8439\n",
      "Epoch 3/20\n",
      "363/363 [==============================] - 0s 845us/step - loss: 0.4317 - val_loss: 0.8417\n",
      "Epoch 4/20\n",
      "363/363 [==============================] - 0s 851us/step - loss: 0.4218 - val_loss: 0.6234\n",
      "Epoch 5/20\n",
      "363/363 [==============================] - 0s 858us/step - loss: 0.4156 - val_loss: 0.5716\n",
      "Epoch 6/20\n",
      "363/363 [==============================] - 0s 828us/step - loss: 0.4115 - val_loss: 0.4850\n",
      "Epoch 7/20\n",
      "363/363 [==============================] - 0s 874us/step - loss: 0.4061 - val_loss: 0.4308\n",
      "Epoch 8/20\n",
      "363/363 [==============================] - 0s 966us/step - loss: 0.4038 - val_loss: 0.4217\n",
      "Epoch 9/20\n",
      "363/363 [==============================] - 0s 863us/step - loss: 0.4004 - val_loss: 0.4016\n",
      "Epoch 10/20\n",
      "363/363 [==============================] - 0s 909us/step - loss: 0.3981 - val_loss: 0.3846\n",
      "Epoch 11/20\n",
      "363/363 [==============================] - 0s 963us/step - loss: 0.3971 - val_loss: 0.3871\n",
      "Epoch 12/20\n",
      "363/363 [==============================] - 0s 853us/step - loss: 0.3943 - val_loss: 0.4022\n",
      "Epoch 13/20\n",
      "363/363 [==============================] - 0s 820us/step - loss: 0.3932 - val_loss: 0.4556\n",
      "Epoch 14/20\n",
      "363/363 [==============================] - 0s 860us/step - loss: 0.3933 - val_loss: 0.3943\n",
      "Epoch 15/20\n",
      "363/363 [==============================] - 0s 858us/step - loss: 0.3914 - val_loss: 0.3691\n",
      "Epoch 16/20\n",
      "363/363 [==============================] - 0s 784us/step - loss: 0.3903 - val_loss: 0.3865\n",
      "Epoch 17/20\n",
      "363/363 [==============================] - 0s 820us/step - loss: 0.3894 - val_loss: 0.4428\n",
      "Epoch 18/20\n",
      "363/363 [==============================] - 0s 808us/step - loss: 0.3889 - val_loss: 0.4038\n",
      "Epoch 19/20\n",
      "363/363 [==============================] - 0s 878us/step - loss: 0.3880 - val_loss: 0.3675\n",
      "Epoch 20/20\n",
      "363/363 [==============================] - 0s 794us/step - loss: 0.3876 - val_loss: 0.3866\n"
     ]
    }
   ],
   "source": [
    "tensorboard_cb = keras.callbacks.TensorBoard(run_logdir)\n",
    "history = model.fit(X_train, y_train, epochs=20,\n",
    "                    validation_data=(X_valid, y_valid),\n",
    "                    callbacks=[tensorboard_cb])"
   ]
  },
  {
   "cell_type": "code",
   "execution_count": null,
   "metadata": {},
   "outputs": [],
   "source": []
  }
 ],
 "metadata": {
  "kernelspec": {
   "display_name": "Python 3",
   "language": "python",
   "name": "python3"
  },
  "language_info": {
   "codemirror_mode": {
    "name": "ipython",
    "version": 3
   },
   "file_extension": ".py",
   "mimetype": "text/x-python",
   "name": "python",
   "nbconvert_exporter": "python",
   "pygments_lexer": "ipython3",
   "version": "3.8.5"
  }
 },
 "nbformat": 4,
 "nbformat_minor": 1
}
