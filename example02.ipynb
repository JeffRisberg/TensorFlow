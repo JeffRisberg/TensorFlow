{
 "cells": [
  {
   "cell_type": "code",
   "execution_count": 3,
   "metadata": {},
   "outputs": [
    {
     "data": {
      "text/plain": [
       "<tf.Variable 'UnreadVariable' shape=() dtype=int64, numpy=1>"
      ]
     },
     "execution_count": 3,
     "metadata": {},
     "output_type": "execute_result"
    }
   ],
   "source": [
    "# Using TensorFlow to minimize a polynomial, 2 x squared plus 5 x plus 4\n",
    "\n",
    "import tensorflow as tf\n",
    "\n",
    "opt = tf.optimizers.Adam(learning_rate=0.001)\n",
    "\n",
    "x = tf.Variable(10.0, trainable=True)\n",
    "with tf.GradientTape() as t:\n",
    "    # no need to watch a variable:\n",
    "    # trainable variables are always watched\n",
    "    log_x = tf.math.log(x)\n",
    "    y = tf.math.square(log_x)\n",
    "\n",
    "# Is the tape that computes the gradients!\n",
    "trainable_variables = [x]\n",
    "gradients = t.gradient(y, trainable_variables)\n",
    "# The optimizer applies the update, using the variables\n",
    "# and the optimizer update rule\n",
    "opt.apply_gradients(zip(gradients, trainable_variables))\n",
    "        \n",
    "# The correct minimium is at x=1.25, with a value of 0.875.  It takes about 25 iterations to reach this.\n"
   ]
  },
  {
   "cell_type": "code",
   "execution_count": null,
   "metadata": {
    "collapsed": true
   },
   "outputs": [],
   "source": []
  }
 ],
 "metadata": {
  "kernelspec": {
   "display_name": "Python 3",
   "language": "python",
   "name": "python3"
  },
  "language_info": {
   "codemirror_mode": {
    "name": "ipython",
    "version": 3
   },
   "file_extension": ".py",
   "mimetype": "text/x-python",
   "name": "python",
   "nbconvert_exporter": "python",
   "pygments_lexer": "ipython3",
   "version": "3.8.5"
  }
 },
 "nbformat": 4,
 "nbformat_minor": 1
}
