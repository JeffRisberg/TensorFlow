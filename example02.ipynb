{
 "cells": [
  {
   "cell_type": "code",
   "execution_count": 5,
   "metadata": {},
   "outputs": [
    {
     "data": {
      "text/plain": [
       "'2.3.1'"
      ]
     },
     "execution_count": 5,
     "metadata": {},
     "output_type": "execute_result"
    }
   ],
   "source": [
    "import tensorflow as tf\n",
    "from tensorflow import keras\n",
    "\n",
    "tf.__version__"
   ]
  },
  {
   "cell_type": "code",
   "execution_count": 6,
   "metadata": {},
   "outputs": [
    {
     "data": {
      "text/plain": [
       "'2.4.0'"
      ]
     },
     "execution_count": 6,
     "metadata": {},
     "output_type": "execute_result"
    }
   ],
   "source": [
    "keras.__version__"
   ]
  },
  {
   "cell_type": "code",
   "execution_count": 7,
   "metadata": {},
   "outputs": [
    {
     "data": {
      "text/plain": [
       "array([[-1.11994857,  1.38828254, -0.06233964, ...,  0.06700171,\n",
       "         1.52401648, -1.06077051],\n",
       "       [-0.43989414, -0.28550748, -0.91572728, ...,  0.43551967,\n",
       "        -0.73066434,  0.7510936 ],\n",
       "       [-0.45024383, -1.00284607, -0.44464036, ..., -0.26230472,\n",
       "        -1.32375366,  1.25160854],\n",
       "       ...,\n",
       "       [-0.73886757,  1.6273954 , -0.32071822, ..., -0.09010693,\n",
       "         1.05331067, -1.36608463],\n",
       "       [ 0.01692537,  0.27242253,  0.06380184, ...,  0.13199168,\n",
       "        -0.72595728,  0.83117599],\n",
       "       [-0.71917662,  1.38828254, -0.48411371, ...,  0.0563761 ,\n",
       "         0.81795777, -1.15586835]])"
      ]
     },
     "execution_count": 7,
     "metadata": {},
     "output_type": "execute_result"
    }
   ],
   "source": [
    "from sklearn.datasets import fetch_california_housing\n",
    "from sklearn.model_selection import train_test_split\n",
    "from sklearn.preprocessing import StandardScaler\n",
    "\n",
    "housing = fetch_california_housing()\n",
    "\n",
    "X_train_full, X_test, y_train_full, y_test = train_test_split(\n",
    "    housing.data, housing.target)\n",
    "X_train, X_valid, y_train, y_valid = train_test_split(\n",
    "    X_train_full, y_train_full)\n",
    "\n",
    "scaler = StandardScaler()\n",
    "X_train = scaler.fit_transform(X_train)\n",
    "X_valid = scaler.transform(X_valid)\n",
    "X_test = scaler.transform(X_test)\n",
    "\n",
    "X_test"
   ]
  },
  {
   "cell_type": "code",
   "execution_count": 8,
   "metadata": {},
   "outputs": [
    {
     "name": "stdout",
     "output_type": "stream",
     "text": [
      "Epoch 1/20\n",
      "363/363 [==============================] - 0s 1ms/step - loss: 1.0990 - val_loss: 7.9974\n",
      "Epoch 2/20\n",
      "363/363 [==============================] - 0s 815us/step - loss: 0.5550 - val_loss: 0.4552\n",
      "Epoch 3/20\n",
      "363/363 [==============================] - 0s 803us/step - loss: 0.4257 - val_loss: 0.4100\n",
      "Epoch 4/20\n",
      "363/363 [==============================] - 0s 773us/step - loss: 0.4026 - val_loss: 0.3986\n",
      "Epoch 5/20\n",
      "363/363 [==============================] - 0s 790us/step - loss: 0.3920 - val_loss: 0.3911\n",
      "Epoch 6/20\n",
      "363/363 [==============================] - 0s 767us/step - loss: 0.3844 - val_loss: 0.3833\n",
      "Epoch 7/20\n",
      "363/363 [==============================] - 0s 798us/step - loss: 0.3789 - val_loss: 0.3793\n",
      "Epoch 8/20\n",
      "363/363 [==============================] - 0s 751us/step - loss: 0.3745 - val_loss: 0.3849\n",
      "Epoch 9/20\n",
      "363/363 [==============================] - 0s 820us/step - loss: 0.3719 - val_loss: 0.3740\n",
      "Epoch 10/20\n",
      "363/363 [==============================] - 0s 815us/step - loss: 0.3678 - val_loss: 0.3757\n",
      "Epoch 11/20\n",
      "363/363 [==============================] - 0s 801us/step - loss: 0.3669 - val_loss: 0.3689\n",
      "Epoch 12/20\n",
      "363/363 [==============================] - 0s 776us/step - loss: 0.3625 - val_loss: 0.3658\n",
      "Epoch 13/20\n",
      "363/363 [==============================] - 0s 817us/step - loss: 0.3613 - val_loss: 0.3697\n",
      "Epoch 14/20\n",
      "363/363 [==============================] - 0s 775us/step - loss: 0.3592 - val_loss: 0.3658\n",
      "Epoch 15/20\n",
      "363/363 [==============================] - 0s 799us/step - loss: 0.3568 - val_loss: 0.3669\n",
      "Epoch 16/20\n",
      "363/363 [==============================] - 0s 846us/step - loss: 0.3546 - val_loss: 0.3631\n",
      "Epoch 17/20\n",
      "363/363 [==============================] - 0s 819us/step - loss: 0.3544 - val_loss: 0.3620\n",
      "Epoch 18/20\n",
      "363/363 [==============================] - 0s 784us/step - loss: 0.3515 - val_loss: 0.3643\n",
      "Epoch 19/20\n",
      "363/363 [==============================] - 0s 791us/step - loss: 0.3521 - val_loss: 0.3585\n",
      "Epoch 20/20\n",
      "363/363 [==============================] - 0s 814us/step - loss: 0.3476 - val_loss: 0.3617\n",
      "162/162 [==============================] - 0s 575us/step - loss: 0.3732\n"
     ]
    }
   ],
   "source": [
    "model = keras.models.Sequential([\n",
    "    keras.layers.Dense(30, activation=\"relu\", input_shape=X_train.shape[1:]),\n",
    "    keras.layers.Dense(1)\n",
    "])\n",
    "\n",
    "model.compile(loss=\"mean_squared_error\", optimizer=\"sgd\")\n",
    "\n",
    "history = model.fit(X_train, y_train, epochs=20,\n",
    "                    validation_data=(X_valid, y_valid))\n"
   ]
  },
  {
   "cell_type": "code",
   "execution_count": 9,
   "metadata": {},
   "outputs": [
    {
     "name": "stdout",
     "output_type": "stream",
     "text": [
      "162/162 [==============================] - 0s 548us/step - loss: 0.3732\n"
     ]
    }
   ],
   "source": [
    "mse_test = model.evaluate(X_test, y_test)\n",
    "X_new = X_test[:3] # pretend these are new instances\n",
    "y_pred = model.predict(X_new)"
   ]
  },
  {
   "cell_type": "code",
   "execution_count": 10,
   "metadata": {},
   "outputs": [
    {
     "data": {
      "text/plain": [
       "array([[0.58666134],\n",
       "       [1.3152018 ],\n",
       "       [1.9894172 ]], dtype=float32)"
      ]
     },
     "execution_count": 10,
     "metadata": {},
     "output_type": "execute_result"
    }
   ],
   "source": [
    "y_pred"
   ]
  },
  {
   "cell_type": "code",
   "execution_count": null,
   "metadata": {},
   "outputs": [],
   "source": []
  }
 ],
 "metadata": {
  "kernelspec": {
   "display_name": "Python 3",
   "language": "python",
   "name": "python3"
  },
  "language_info": {
   "codemirror_mode": {
    "name": "ipython",
    "version": 3
   },
   "file_extension": ".py",
   "mimetype": "text/x-python",
   "name": "python",
   "nbconvert_exporter": "python",
   "pygments_lexer": "ipython3",
   "version": "3.8.5"
  }
 },
 "nbformat": 4,
 "nbformat_minor": 1
}
