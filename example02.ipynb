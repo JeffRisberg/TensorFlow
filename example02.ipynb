{
 "cells": [
  {
   "cell_type": "markdown",
   "metadata": {},
   "source": [
    "## Regression Example Using TensorFlow 2\n",
    "### from Geron, 2nd Edition, chapter 10"
   ]
  },
  {
   "cell_type": "code",
   "execution_count": 1,
   "metadata": {},
   "outputs": [
    {
     "data": {
      "text/plain": [
       "'2.4.0'"
      ]
     },
     "execution_count": 1,
     "metadata": {},
     "output_type": "execute_result"
    }
   ],
   "source": [
    "import tensorflow as tf\n",
    "from tensorflow import keras\n",
    "\n",
    "tf.__version__"
   ]
  },
  {
   "cell_type": "code",
   "execution_count": 2,
   "metadata": {},
   "outputs": [
    {
     "data": {
      "text/plain": [
       "'2.4.0'"
      ]
     },
     "execution_count": 2,
     "metadata": {},
     "output_type": "execute_result"
    }
   ],
   "source": [
    "keras.__version__"
   ]
  },
  {
   "cell_type": "code",
   "execution_count": 3,
   "metadata": {},
   "outputs": [
    {
     "name": "stdout",
     "output_type": "stream",
     "text": [
      "[[   8.3252       41.            6.98412698 ...    2.55555556\n",
      "    37.88       -122.23      ]\n",
      " [   8.3014       21.            6.23813708 ...    2.10984183\n",
      "    37.86       -122.22      ]\n",
      " [   7.2574       52.            8.28813559 ...    2.80225989\n",
      "    37.85       -122.24      ]\n",
      " ...\n",
      " [   1.7          17.            5.20554273 ...    2.3256351\n",
      "    39.43       -121.22      ]\n",
      " [   1.8672       18.            5.32951289 ...    2.12320917\n",
      "    39.43       -121.32      ]\n",
      " [   2.3886       16.            5.25471698 ...    2.61698113\n",
      "    39.37       -121.24      ]]\n",
      "[4.526 3.585 3.521 ... 0.923 0.847 0.894]\n",
      "8\n",
      "11610\n",
      "11610\n"
     ]
    },
    {
     "data": {
      "text/plain": [
       "(8,)"
      ]
     },
     "execution_count": 3,
     "metadata": {},
     "output_type": "execute_result"
    }
   ],
   "source": [
    "from sklearn.datasets import fetch_california_housing\n",
    "from sklearn.model_selection import train_test_split\n",
    "from sklearn.preprocessing import StandardScaler\n",
    "\n",
    "housing = fetch_california_housing()\n",
    "\n",
    "X_train_full, X_test, y_train_full, y_test = train_test_split(\n",
    "    housing.data, housing.target)\n",
    "X_train, X_valid, y_train, y_valid = train_test_split(\n",
    "    X_train_full, y_train_full)\n",
    "\n",
    "scaler = StandardScaler()\n",
    "X_train = scaler.fit_transform(X_train)\n",
    "X_valid = scaler.transform(X_valid)\n",
    "X_test = scaler.transform(X_test)\n",
    "\n",
    "print(housing.data)\n",
    "print(housing.target)\n",
    "print(len(housing.data[0]))\n",
    "print(len(X_train))\n",
    "print(len(y_train))\n",
    "X_train.shape[1:]"
   ]
  },
  {
   "cell_type": "markdown",
   "metadata": {},
   "source": [
    "### We have 11,610 records of X and y to train from.  The X contains 8 attributes, and the y are single values."
   ]
  },
  {
   "cell_type": "code",
   "execution_count": 4,
   "metadata": {},
   "outputs": [],
   "source": [
    "model = keras.models.Sequential([\n",
    "    keras.layers.Dense(8, activation=\"relu\", input_shape=X_train.shape[1:]),\n",
    "    keras.layers.Dense(1)\n",
    "])"
   ]
  },
  {
   "cell_type": "code",
   "execution_count": 5,
   "metadata": {},
   "outputs": [],
   "source": [
    "def huber_fn(y_true, y_pred):\n",
    "    error = y_true - y_pred\n",
    "    is_small_error = tf.abs(error) < 1\n",
    "    squared_loss = tf.square(error) / 2\n",
    "    linear_loss  = tf.abs(error) - 0.5\n",
    "    return tf.where(is_small_error, squared_loss, linear_loss)"
   ]
  },
  {
   "cell_type": "code",
   "execution_count": 6,
   "metadata": {},
   "outputs": [],
   "source": [
    "model.compile(loss=huber_fn, optimizer=\"sgd\")"
   ]
  },
  {
   "cell_type": "code",
   "execution_count": 7,
   "metadata": {},
   "outputs": [
    {
     "name": "stdout",
     "output_type": "stream",
     "text": [
      "Epoch 1/20\n",
      "363/363 [==============================] - 1s 2ms/step - loss: 0.8836 - val_loss: 0.2775\n",
      "Epoch 2/20\n",
      "363/363 [==============================] - 0s 952us/step - loss: 0.2717 - val_loss: 0.2470\n",
      "Epoch 3/20\n",
      "363/363 [==============================] - 0s 944us/step - loss: 0.2464 - val_loss: 0.2284\n",
      "Epoch 4/20\n",
      "363/363 [==============================] - 0s 938us/step - loss: 0.2285 - val_loss: 0.2165\n",
      "Epoch 5/20\n",
      "363/363 [==============================] - 0s 970us/step - loss: 0.2207 - val_loss: 0.2083\n",
      "Epoch 6/20\n",
      "363/363 [==============================] - 0s 926us/step - loss: 0.2072 - val_loss: 0.2026\n",
      "Epoch 7/20\n",
      "363/363 [==============================] - 0s 906us/step - loss: 0.2102 - val_loss: 0.1991\n",
      "Epoch 8/20\n",
      "363/363 [==============================] - 0s 988us/step - loss: 0.1982 - val_loss: 0.1968\n",
      "Epoch 9/20\n",
      "363/363 [==============================] - 0s 946us/step - loss: 0.1985 - val_loss: 0.1946\n",
      "Epoch 10/20\n",
      "363/363 [==============================] - 0s 992us/step - loss: 0.1929 - val_loss: 0.1926\n",
      "Epoch 11/20\n",
      "363/363 [==============================] - 0s 977us/step - loss: 0.1996 - val_loss: 0.1927\n",
      "Epoch 12/20\n",
      "363/363 [==============================] - 0s 904us/step - loss: 0.1947 - val_loss: 0.1908\n",
      "Epoch 13/20\n",
      "363/363 [==============================] - 0s 916us/step - loss: 0.1970 - val_loss: 0.1897\n",
      "Epoch 14/20\n",
      "363/363 [==============================] - 0s 997us/step - loss: 0.1911 - val_loss: 0.1898\n",
      "Epoch 15/20\n",
      "363/363 [==============================] - 0s 935us/step - loss: 0.1919 - val_loss: 0.1881\n",
      "Epoch 16/20\n",
      "363/363 [==============================] - 0s 965us/step - loss: 0.1915 - val_loss: 0.1875\n",
      "Epoch 17/20\n",
      "363/363 [==============================] - 0s 1ms/step - loss: 0.1925 - val_loss: 0.1867\n",
      "Epoch 18/20\n",
      "363/363 [==============================] - 0s 936us/step - loss: 0.1917 - val_loss: 0.1863\n",
      "Epoch 19/20\n",
      "363/363 [==============================] - 0s 969us/step - loss: 0.1898 - val_loss: 0.1853\n",
      "Epoch 20/20\n",
      "363/363 [==============================] - 0s 962us/step - loss: 0.1815 - val_loss: 0.1839\n"
     ]
    }
   ],
   "source": [
    "history = model.fit(X_train, y_train, epochs=20,\n",
    "                    validation_data=(X_valid, y_valid))"
   ]
  },
  {
   "cell_type": "code",
   "execution_count": 8,
   "metadata": {},
   "outputs": [
    {
     "name": "stdout",
     "output_type": "stream",
     "text": [
      "162/162 [==============================] - 0s 606us/step - loss: 0.1983\n"
     ]
    },
    {
     "data": {
      "text/plain": [
       "0.1983378529548645"
      ]
     },
     "execution_count": 8,
     "metadata": {},
     "output_type": "execute_result"
    }
   ],
   "source": [
    "mse_test = model.evaluate(X_test, y_test)\n",
    "mse_test"
   ]
  },
  {
   "cell_type": "code",
   "execution_count": 9,
   "metadata": {},
   "outputs": [
    {
     "data": {
      "text/plain": [
       "array([[2.4623213],\n",
       "       [2.829451 ],\n",
       "       [1.5883987]], dtype=float32)"
      ]
     },
     "execution_count": 9,
     "metadata": {},
     "output_type": "execute_result"
    }
   ],
   "source": [
    "X_new1 = X_test[:3] # pretend these are new instances\n",
    "y_pred1 = model.predict(X_new1)\n",
    "y_pred1"
   ]
  },
  {
   "cell_type": "code",
   "execution_count": 10,
   "metadata": {},
   "outputs": [
    {
     "data": {
      "text/plain": [
       "array([[2.4623213],\n",
       "       [2.829451 ],\n",
       "       [1.5883987]], dtype=float32)"
      ]
     },
     "execution_count": 10,
     "metadata": {},
     "output_type": "execute_result"
    }
   ],
   "source": [
    "X_new2 = X_test[:3] # pretend these are new instances\n",
    "y_pred2 = model.predict(X_new2)\n",
    "y_pred2"
   ]
  },
  {
   "cell_type": "markdown",
   "metadata": {},
   "source": [
    "### Now set up TensorBoard, and train again"
   ]
  },
  {
   "cell_type": "code",
   "execution_count": 11,
   "metadata": {},
   "outputs": [],
   "source": [
    "import os\n",
    "root_logdir = os.path.join(os.curdir, \"my_logs\")\n",
    "\n",
    "def get_run_logdir():\n",
    "    import time\n",
    "    run_id = time.strftime(\"run_%Y_%m_%d-%H_%M_%S\")\n",
    "    return os.path.join(root_logdir, run_id)\n",
    "\n",
    "run_logdir = get_run_logdir() # e.g., './my_logs/run_2019_06_07-15_15_22'"
   ]
  },
  {
   "cell_type": "code",
   "execution_count": 12,
   "metadata": {},
   "outputs": [
    {
     "name": "stdout",
     "output_type": "stream",
     "text": [
      "Epoch 1/20\n",
      "363/363 [==============================] - 0s 1ms/step - loss: 0.1867 - val_loss: 0.1833\n",
      "Epoch 2/20\n",
      "363/363 [==============================] - 0s 1ms/step - loss: 0.1854 - val_loss: 0.1844\n",
      "Epoch 3/20\n",
      "363/363 [==============================] - 0s 939us/step - loss: 0.1856 - val_loss: 0.1824\n",
      "Epoch 4/20\n",
      "363/363 [==============================] - 0s 999us/step - loss: 0.1850 - val_loss: 0.1820\n",
      "Epoch 5/20\n",
      "363/363 [==============================] - 0s 963us/step - loss: 0.1838 - val_loss: 0.1801\n",
      "Epoch 6/20\n",
      "363/363 [==============================] - 0s 964us/step - loss: 0.1831 - val_loss: 0.1799\n",
      "Epoch 7/20\n",
      "363/363 [==============================] - 0s 1ms/step - loss: 0.1825 - val_loss: 0.1792\n",
      "Epoch 8/20\n",
      "363/363 [==============================] - 0s 970us/step - loss: 0.1816 - val_loss: 0.1780\n",
      "Epoch 9/20\n",
      "363/363 [==============================] - 0s 924us/step - loss: 0.1813 - val_loss: 0.1772\n",
      "Epoch 10/20\n",
      "363/363 [==============================] - 0s 1ms/step - loss: 0.1805 - val_loss: 0.1771\n",
      "Epoch 11/20\n",
      "363/363 [==============================] - 0s 1ms/step - loss: 0.1798 - val_loss: 0.1766\n",
      "Epoch 12/20\n",
      "363/363 [==============================] - 0s 1ms/step - loss: 0.1795 - val_loss: 0.1761\n",
      "Epoch 13/20\n",
      "363/363 [==============================] - 0s 992us/step - loss: 0.1788 - val_loss: 0.1752\n",
      "Epoch 14/20\n",
      "363/363 [==============================] - 0s 928us/step - loss: 0.1781 - val_loss: 0.1752\n",
      "Epoch 15/20\n",
      "363/363 [==============================] - 0s 962us/step - loss: 0.1779 - val_loss: 0.1752\n",
      "Epoch 16/20\n",
      "363/363 [==============================] - 0s 968us/step - loss: 0.1772 - val_loss: 0.1740\n",
      "Epoch 17/20\n",
      "363/363 [==============================] - 0s 1ms/step - loss: 0.1767 - val_loss: 0.1739\n",
      "Epoch 18/20\n",
      "363/363 [==============================] - 0s 1ms/step - loss: 0.1764 - val_loss: 0.1731\n",
      "Epoch 19/20\n",
      "363/363 [==============================] - 0s 979us/step - loss: 0.1757 - val_loss: 0.1726\n",
      "Epoch 20/20\n",
      "363/363 [==============================] - 0s 938us/step - loss: 0.1755 - val_loss: 0.1721\n"
     ]
    }
   ],
   "source": [
    "tensorboard_cb = keras.callbacks.TensorBoard(run_logdir)\n",
    "history = model.fit(X_train, y_train, epochs=20,\n",
    "                    validation_data=(X_valid, y_valid),\n",
    "                    callbacks=[tensorboard_cb])"
   ]
  },
  {
   "cell_type": "code",
   "execution_count": 13,
   "metadata": {},
   "outputs": [
    {
     "data": {
      "text/html": [
       "\n",
       "      <iframe id=\"tensorboard-frame-8b2122bcaf44ee41\" width=\"100%\" height=\"800\" frameborder=\"0\">\n",
       "      </iframe>\n",
       "      <script>\n",
       "        (function() {\n",
       "          const frame = document.getElementById(\"tensorboard-frame-8b2122bcaf44ee41\");\n",
       "          const url = new URL(\"/\", window.location);\n",
       "          const port = 6006;\n",
       "          if (port) {\n",
       "            url.port = port;\n",
       "          }\n",
       "          frame.src = url;\n",
       "        })();\n",
       "      </script>\n",
       "    "
      ],
      "text/plain": [
       "<IPython.core.display.HTML object>"
      ]
     },
     "metadata": {},
     "output_type": "display_data"
    }
   ],
   "source": [
    "%load_ext tensorboard\n",
    "%tensorboard --logdir=./my_logs --port=6006"
   ]
  },
  {
   "cell_type": "code",
   "execution_count": null,
   "metadata": {},
   "outputs": [],
   "source": []
  }
 ],
 "metadata": {
  "kernelspec": {
   "display_name": "Python 3",
   "language": "python",
   "name": "python3"
  },
  "language_info": {
   "codemirror_mode": {
    "name": "ipython",
    "version": 3
   },
   "file_extension": ".py",
   "mimetype": "text/x-python",
   "name": "python",
   "nbconvert_exporter": "python",
   "pygments_lexer": "ipython3",
   "version": "3.8.6"
  }
 },
 "nbformat": 4,
 "nbformat_minor": 1
}
