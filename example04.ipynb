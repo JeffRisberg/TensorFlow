{
 "cells": [
  {
   "cell_type": "code",
   "execution_count": 8,
   "metadata": {},
   "outputs": [
    {
     "name": "stdout",
     "output_type": "stream",
     "text": [
      "('Epoch:', '0050', 'cost=', '0.080399320', 'W=', 0.21722122, 'b=', 1.034351)\n",
      "('Epoch:', '0100', 'cost=', '0.080008611', 'W=', 0.21914664, 'b=', 1.0204996)\n",
      "('Epoch:', '0150', 'cost=', '0.079662822', 'W=', 0.22095759, 'b=', 1.0074719)\n",
      "('Epoch:', '0200', 'cost=', '0.079356790', 'W=', 0.22266088, 'b=', 0.99521846)\n",
      "('Epoch:', '0250', 'cost=', '0.079085976', 'W=', 0.22426279, 'b=', 0.98369449)\n",
      "('Epoch:', '0300', 'cost=', '0.078846253', 'W=', 0.22576945, 'b=', 0.97285563)\n",
      "('Epoch:', '0350', 'cost=', '0.078634076', 'W=', 0.22718655, 'b=', 0.96266097)\n",
      "('Epoch:', '0400', 'cost=', '0.078446314', 'W=', 0.2285191, 'b=', 0.95307523)\n",
      "('Epoch:', '0450', 'cost=', '0.078280091', 'W=', 0.22977233, 'b=', 0.94405913)\n",
      "('Epoch:', '0500', 'cost=', '0.078132965', 'W=', 0.23095104, 'b=', 0.93557984)\n",
      "('Epoch:', '0550', 'cost=', '0.078002706', 'W=', 0.23205963, 'b=', 0.92760456)\n",
      "('Epoch:', '0600', 'cost=', '0.077887416', 'W=', 0.23310222, 'b=', 0.92010409)\n",
      "('Epoch:', '0650', 'cost=', '0.077785321', 'W=', 0.23408294, 'b=', 0.91304904)\n",
      "('Epoch:', '0700', 'cost=', '0.077694930', 'W=', 0.2350053, 'b=', 0.90641373)\n",
      "('Epoch:', '0750', 'cost=', '0.077614874', 'W=', 0.23587278, 'b=', 0.90017301)\n",
      "('Epoch:', '0800', 'cost=', '0.077544004', 'W=', 0.23668876, 'b=', 0.89430296)\n",
      "('Epoch:', '0850', 'cost=', '0.077481225', 'W=', 0.23745622, 'b=', 0.88878167)\n",
      "('Epoch:', '0900', 'cost=', '0.077425644', 'W=', 0.23817807, 'b=', 0.88358885)\n",
      "('Epoch:', '0950', 'cost=', '0.077376418', 'W=', 0.23885697, 'b=', 0.87870485)\n",
      "('Epoch:', '1000', 'cost=', '0.077332795', 'W=', 0.23949556, 'b=', 0.87411106)\n",
      "Optimization Finished!\n",
      "('Training cost=', 0.077332795, 'W=', 0.23949556, 'b=', 0.87411106, '\\n')\n"
     ]
    }
   ],
   "source": [
    "# Using TensorFlow to solve a Logistic Regression problem\n",
    "\n",
    "import tensorflow as tf\n",
    "import numpy\n",
    "\n",
    "# Import MNIST data\n",
    "from tensorflow.examples.tutorials.mnist import input_data\n",
    "mnist = input_data.read_data_sets(\"/tmp/data/\", one_hot=True)\n",
    "\n",
    "# Parameters\n",
    "learning_rate = 0.01\n",
    "training_epochs = 25\n",
    "batch_size = 100\n",
    "display_step = 1\n",
    "\n",
    "# tf Graph Input\n",
    "x = tf.placeholder(tf.float32, [None, 784]) # mnist data image of shape 28*28=784\n",
    "y = tf.placeholder(tf.float32, [None, 10]) # 0-9 digits recognition => 10 classes\n",
    "\n",
    "# Set model weights\n",
    "W = tf.Variable(tf.zeros([784, 10]))\n",
    "b = tf.Variable(tf.zeros([10]))\n",
    "\n",
    "# Construct model\n",
    "pred = tf.nn.softmax(tf.matmul(x, W) + b) # Softmax\n",
    "\n",
    "# Minimize error using cross entropy\n",
    "cost = tf.reduce_mean(-tf.reduce_sum(y*tf.log(pred), reduction_indices=1))\n",
    "# Gradient Descent\n",
    "optimizer = tf.train.GradientDescentOptimizer(learning_rate).minimize(cost)\n",
    "\n",
    "# Initialize the variables (i.e. assign their default value)\n",
    "init = tf.global_variables_initializer()\n",
    "\n",
    "# Start training\n",
    "with tf.Session() as sess:\n",
    "\n",
    "    # Run the initializer\n",
    "    sess.run(init)\n",
    "\n",
    "    # Training cycle\n",
    "    for epoch in range(training_epochs):\n",
    "        avg_cost = 0.\n",
    "        total_batch = int(mnist.train.num_examples/batch_size)\n",
    "        # Loop over all batches\n",
    "        for i in range(total_batch):\n",
    "            batch_xs, batch_ys = mnist.train.next_batch(batch_size)\n",
    "            # Run optimization op (backprop) and cost op (to get loss value)\n",
    "            _, c = sess.run([optimizer, cost], feed_dict={x: batch_xs,\n",
    "                                                          y: batch_ys})\n",
    "            # Compute average loss\n",
    "            avg_cost += c / total_batch\n",
    "        # Display logs per epoch step\n",
    "        if (epoch+1) % display_step == 0:\n",
    "            print(\"Epoch:\", '%04d' % (epoch+1), \"cost=\", \"{:.9f}\".format(avg_cost))\n",
    "\n",
    "    print(\"Optimization Finished!\")\n",
    "\n",
    "    # Test model\n",
    "    correct_prediction = tf.equal(tf.argmax(pred, 1), tf.argmax(y, 1))\n",
    "    # Calculate accuracy\n",
    "    accuracy = tf.reduce_mean(tf.cast(correct_prediction, tf.float32))\n",
    "    print(\"Accuracy:\", accuracy.eval({x: mnist.test.images, y: mnist.test.labels}))"
   ]
  },
  {
   "cell_type": "code",
   "execution_count": null,
   "metadata": {
    "collapsed": true
   },
   "outputs": [],
   "source": [
    ""
   ]
  }
 ],
 "metadata": {
  "kernelspec": {
   "display_name": "Python 2",
   "language": "python",
   "name": "python2"
  },
  "language_info": {
   "codemirror_mode": {
    "name": "ipython",
    "version": 2.0
   },
   "file_extension": ".py",
   "mimetype": "text/x-python",
   "name": "python",
   "nbconvert_exporter": "python",
   "pygments_lexer": "ipython2",
   "version": "2.7.10"
  }
 },
 "nbformat": 4,
 "nbformat_minor": 0
}