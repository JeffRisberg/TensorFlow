{
 "cells": [
  {
   "cell_type": "code",
   "execution_count": 8,
   "metadata": {},
   "outputs": [
    {
     "name": "stdout",
     "output_type": "stream",
     "text": [
      "('Epoch:', '0050', 'cost=', '0.080399320', 'W=', 0.21722122, 'b=', 1.034351)\n",
      "('Epoch:', '0100', 'cost=', '0.080008611', 'W=', 0.21914664, 'b=', 1.0204996)\n",
      "('Epoch:', '0150', 'cost=', '0.079662822', 'W=', 0.22095759, 'b=', 1.0074719)\n",
      "('Epoch:', '0200', 'cost=', '0.079356790', 'W=', 0.22266088, 'b=', 0.99521846)\n",
      "('Epoch:', '0250', 'cost=', '0.079085976', 'W=', 0.22426279, 'b=', 0.98369449)\n",
      "('Epoch:', '0300', 'cost=', '0.078846253', 'W=', 0.22576945, 'b=', 0.97285563)\n",
      "('Epoch:', '0350', 'cost=', '0.078634076', 'W=', 0.22718655, 'b=', 0.96266097)\n",
      "('Epoch:', '0400', 'cost=', '0.078446314', 'W=', 0.2285191, 'b=', 0.95307523)\n",
      "('Epoch:', '0450', 'cost=', '0.078280091', 'W=', 0.22977233, 'b=', 0.94405913)\n",
      "('Epoch:', '0500', 'cost=', '0.078132965', 'W=', 0.23095104, 'b=', 0.93557984)\n",
      "('Epoch:', '0550', 'cost=', '0.078002706', 'W=', 0.23205963, 'b=', 0.92760456)\n",
      "('Epoch:', '0600', 'cost=', '0.077887416', 'W=', 0.23310222, 'b=', 0.92010409)\n",
      "('Epoch:', '0650', 'cost=', '0.077785321', 'W=', 0.23408294, 'b=', 0.91304904)\n",
      "('Epoch:', '0700', 'cost=', '0.077694930', 'W=', 0.2350053, 'b=', 0.90641373)\n",
      "('Epoch:', '0750', 'cost=', '0.077614874', 'W=', 0.23587278, 'b=', 0.90017301)\n",
      "('Epoch:', '0800', 'cost=', '0.077544004', 'W=', 0.23668876, 'b=', 0.89430296)\n",
      "('Epoch:', '0850', 'cost=', '0.077481225', 'W=', 0.23745622, 'b=', 0.88878167)\n",
      "('Epoch:', '0900', 'cost=', '0.077425644', 'W=', 0.23817807, 'b=', 0.88358885)\n",
      "('Epoch:', '0950', 'cost=', '0.077376418', 'W=', 0.23885697, 'b=', 0.87870485)\n",
      "('Epoch:', '1000', 'cost=', '0.077332795', 'W=', 0.23949556, 'b=', 0.87411106)\n",
      "Optimization Finished!\n",
      "('Training cost=', 0.077332795, 'W=', 0.23949556, 'b=', 0.87411106, '\\n')\n"
     ]
    }
   ],
   "source": [
    "# Using TensorFlow to solve a Linear Regression problem\n",
    "\n",
    "import tensorflow as tf\n",
    "import numpy\n",
    "\n",
    "# Parameters\n",
    "learning_rate = 0.01\n",
    "training_epochs = 1000\n",
    "display_step = 50\n",
    "\n",
    "# Training Data\n",
    "train_X = numpy.asarray([3.3,4.4,5.5,6.71,6.93,4.168,9.779,6.182,7.59,2.167,\n",
    "                         7.042,10.791,5.313,7.997,5.654,9.27,3.1])\n",
    "train_Y = numpy.asarray([1.7,2.76,2.09,3.19,1.694,1.573,3.366,2.596,2.53,1.221,\n",
    "                         2.827,3.465,1.65,2.904,2.42,2.94,1.3])\n",
    "n_samples = train_X.shape[0]\n",
    "\n",
    "# tf Graph Input\n",
    "X = tf.placeholder(\"float\")\n",
    "Y = tf.placeholder(\"float\")\n",
    "\n",
    "# Set model weights\n",
    "W = tf.Variable(numpy.random.randn(), name=\"weight\")\n",
    "b = tf.Variable(numpy.random.randn(), name=\"bias\")\n",
    "\n",
    "# Construct a linear model\n",
    "pred = tf.add(tf.multiply(X, W), b)\n",
    "\n",
    "# Mean squared error\n",
    "cost = tf.reduce_sum(tf.pow(pred-Y, 2))/(2*n_samples)\n",
    "# Gradient descent\n",
    "#  Note, minimize() knows to modify W and b because Variable objects are trainable=True by default\n",
    "optimizer = tf.train.GradientDescentOptimizer(learning_rate).minimize(cost)\n",
    "\n",
    "# Initialize the variables (i.e. assign their default value)\n",
    "init = tf.global_variables_initializer()\n",
    "\n",
    "# Start training\n",
    "with tf.Session() as sess:\n",
    "\n",
    "    # Run the initializer\n",
    "    sess.run(init)\n",
    "\n",
    "    # Fit all training data\n",
    "    for epoch in range(training_epochs):\n",
    "        for (x, y) in zip(train_X, train_Y):\n",
    "            sess.run(optimizer, feed_dict={X: x, Y: y})\n",
    "\n",
    "        # Display logs per epoch step\n",
    "        if (epoch+1) % display_step == 0:\n",
    "            c = sess.run(cost, feed_dict={X: train_X, Y:train_Y})\n",
    "            print(\"Epoch:\", '%04d' % (epoch+1), \"cost=\", \"{:.9f}\".format(c), \\\n",
    "                \"W=\", sess.run(W), \"b=\", sess.run(b))\n",
    "\n",
    "    print(\"Optimization Finished!\")\n",
    "    training_cost = sess.run(cost, feed_dict={X: train_X, Y: train_Y})\n",
    "    print(\"Training cost=\", training_cost, \"W=\", sess.run(W), \"b=\", sess.run(b), '\\n')\n"
   ]
  },
  {
   "cell_type": "code",
   "execution_count": null,
   "metadata": {
    "collapsed": true
   },
   "outputs": [],
   "source": []
  }
 ],
 "metadata": {
  "kernelspec": {
   "display_name": "Python 2",
   "language": "python",
   "name": "python2"
  },
  "language_info": {
   "codemirror_mode": {
    "name": "ipython",
    "version": 2
   },
   "file_extension": ".py",
   "mimetype": "text/x-python",
   "name": "python",
   "nbconvert_exporter": "python",
   "pygments_lexer": "ipython2",
   "version": "2.7.10"
  }
 },
 "nbformat": 4,
 "nbformat_minor": 1
}
