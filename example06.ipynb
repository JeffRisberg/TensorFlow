{
 "cells": [
  {
   "cell_type": "markdown",
   "metadata": {},
   "source": [
    "### Using TensorFlow to solve a Linear Regression problem\n",
    "y = weight * x + bias\n",
    "\n",
    "This is from https://github.com/dhirajk100/LRTF2/blob/master/LR%20with%20TF%20%20Dhiraj.ipynb"
   ]
  },
  {
   "cell_type": "code",
   "execution_count": 15,
   "metadata": {},
   "outputs": [],
   "source": [
    "import numpy as np\n",
    "import tensorflow as tf\n",
    "import matplotlib.pyplot as plt"
   ]
  },
  {
   "cell_type": "code",
   "execution_count": 16,
   "metadata": {},
   "outputs": [],
   "source": [
    "# actual weight = 2 and actual bias = -1.0\n",
    "x = np.linspace(0, 3, 120)\n",
    "y = 2 * x - 1.0 + np.random.randn(*x.shape) * 0.3"
   ]
  },
  {
   "cell_type": "code",
   "execution_count": 17,
   "metadata": {},
   "outputs": [
    {
     "data": {
      "text/plain": [
       "<matplotlib.collections.PathCollection at 0x15f141c70>"
      ]
     },
     "execution_count": 17,
     "metadata": {},
     "output_type": "execute_result"
    },
    {
     "data": {
      "image/png": "[encoded data removed]",
      "text/plain": [
       "<Figure size 432x288 with 1 Axes>"
      ]
     },
     "metadata": {
      "needs_background": "light"
     },
     "output_type": "display_data"
    }
   ],
   "source": [
    "plt.scatter(x,y, label=\"input data set\")"
   ]
  },
  {
   "cell_type": "code",
   "execution_count": 18,
   "metadata": {},
   "outputs": [],
   "source": [
    "class LinearModel:\n",
    "    def __call__(self, x):\n",
    "        return self.Weight * x + self.Bias\n",
    "    \n",
    "    def __init__(self):\n",
    "        self.Weight = tf.Variable(11.0)\n",
    "        self.Bias = tf.Variable(12.0)"
   ]
  },
  {
   "cell_type": "code",
   "execution_count": 19,
   "metadata": {},
   "outputs": [],
   "source": [
    "def loss(y, pred):\n",
    "    return tf.reduce_mean(tf.square(y - pred))\n",
    "\n",
    "def train_step(linear_model, x, y, lr=0.12):\n",
    "    with tf.GradientTape() as t:\n",
    "        current_loss = loss(y, linear_model(x))\n",
    "\n",
    "    lr_weight, lr_bias = t.gradient(current_loss, [linear_model.Weight, linear_model.Bias])\n",
    "    linear_model.Weight.assign_sub(lr * lr_weight)\n",
    "    linear_model.Bias.assign_sub(lr * lr_bias)"
   ]
  },
  {
   "cell_type": "code",
   "execution_count": 20,
   "metadata": {},
   "outputs": [
    {
     "name": "stdout",
     "output_type": "stream",
     "text": [
      "Epoch count 0: Loss value: 760.9461059570312\n",
      "Epoch count 1: Loss value: 14.839351654052734\n",
      "Epoch count 2: Loss value: 8.58452033996582\n",
      "Epoch count 3: Loss value: 7.753866672515869\n",
      "Epoch count 4: Loss value: 7.035988807678223\n",
      "Epoch count 5: Loss value: 6.38563346862793\n",
      "Epoch count 6: Loss value: 5.79622220993042\n",
      "Epoch count 7: Loss value: 5.262044429779053\n",
      "Epoch count 8: Loss value: 4.777921199798584\n",
      "Epoch count 9: Loss value: 4.339163303375244\n",
      "Epoch count 10: Loss value: 3.9415206909179688\n",
      "Epoch count 11: Loss value: 3.58113956451416\n",
      "Epoch count 12: Loss value: 3.254528760910034\n",
      "Epoch count 13: Loss value: 2.9585230350494385\n",
      "Epoch count 14: Loss value: 2.690255641937256\n",
      "Epoch count 15: Loss value: 2.4471261501312256\n",
      "Epoch count 16: Loss value: 2.2267799377441406\n",
      "Epoch count 17: Loss value: 2.0270814895629883\n",
      "Epoch count 18: Loss value: 1.846096158027649\n",
      "Epoch count 19: Loss value: 1.6820701360702515\n",
      "Epoch count 20: Loss value: 1.5334144830703735\n",
      "Epoch count 21: Loss value: 1.3986889123916626\n",
      "Epoch count 22: Loss value: 1.2765882015228271\n",
      "Epoch count 23: Loss value: 1.1659289598464966\n",
      "Epoch count 24: Loss value: 1.0656392574310303\n",
      "Epoch count 25: Loss value: 0.974747359752655\n",
      "Epoch count 26: Loss value: 0.8923726677894592\n",
      "Epoch count 27: Loss value: 0.8177169561386108\n",
      "Epoch count 28: Loss value: 0.7500569820404053\n",
      "Epoch count 29: Loss value: 0.6887372136116028\n",
      "Epoch count 30: Loss value: 0.6331635117530823\n",
      "Epoch count 31: Loss value: 0.5827974677085876\n",
      "Epoch count 32: Loss value: 0.5371510982513428\n",
      "Epoch count 33: Loss value: 0.4957820475101471\n",
      "Epoch count 34: Loss value: 0.4582895338535309\n",
      "Epoch count 35: Loss value: 0.4243102967739105\n",
      "Epoch count 36: Loss value: 0.3935151696205139\n",
      "Epoch count 37: Loss value: 0.36560577154159546\n",
      "Epoch count 38: Loss value: 0.34031161665916443\n",
      "Epoch count 39: Loss value: 0.31738775968551636\n",
      "Epoch count 40: Loss value: 0.2966119349002838\n",
      "Epoch count 41: Loss value: 0.27778300642967224\n",
      "Epoch count 42: Loss value: 0.260718435049057\n",
      "Epoch count 43: Loss value: 0.24525293707847595\n",
      "Epoch count 44: Loss value: 0.23123668134212494\n",
      "Epoch count 45: Loss value: 0.21853382885456085\n",
      "Epoch count 46: Loss value: 0.2070212960243225\n",
      "Epoch count 47: Loss value: 0.19658759236335754\n",
      "Epoch count 48: Loss value: 0.1871315985918045\n",
      "Epoch count 49: Loss value: 0.17856170237064362\n",
      "Epoch count 50: Loss value: 0.17079487442970276\n",
      "Epoch count 51: Loss value: 0.16375580430030823\n",
      "Epoch count 52: Loss value: 0.15737631916999817\n",
      "Epoch count 53: Loss value: 0.15159472823143005\n",
      "Epoch count 54: Loss value: 0.14635485410690308\n",
      "Epoch count 55: Loss value: 0.14160598814487457\n",
      "Epoch count 56: Loss value: 0.13730210065841675\n",
      "Epoch count 57: Loss value: 0.133401557803154\n",
      "Epoch count 58: Loss value: 0.12986649572849274\n",
      "Epoch count 59: Loss value: 0.1266627013683319\n",
      "Epoch count 60: Loss value: 0.12375911325216293\n",
      "Epoch count 61: Loss value: 0.12112762778997421\n",
      "Epoch count 62: Loss value: 0.11874273419380188\n",
      "Epoch count 63: Loss value: 0.11658131331205368\n",
      "Epoch count 64: Loss value: 0.11462243646383286\n",
      "Epoch count 65: Loss value: 0.11284710466861725\n",
      "Epoch count 66: Loss value: 0.11123812943696976\n",
      "Epoch count 67: Loss value: 0.10977994650602341\n",
      "Epoch count 68: Loss value: 0.10845840722322464\n",
      "Epoch count 69: Loss value: 0.10726069658994675\n",
      "Epoch count 70: Loss value: 0.10617518424987793\n",
      "Epoch count 71: Loss value: 0.1051914393901825\n",
      "Epoch count 72: Loss value: 0.1042998805642128\n",
      "Epoch count 73: Loss value: 0.10349185019731522\n",
      "Epoch count 74: Loss value: 0.10275951027870178\n",
      "Epoch count 75: Loss value: 0.102095827460289\n",
      "Epoch count 76: Loss value: 0.10149432718753815\n",
      "Epoch count 77: Loss value: 0.10094917565584183\n",
      "Epoch count 78: Loss value: 0.1004551351070404\n",
      "Epoch count 79: Loss value: 0.10000739246606827\n"
     ]
    }
   ],
   "source": [
    "linear_model = LinearModel()\n",
    "Weights, Biases = [], []\n",
    "epochs = 80\n",
    "for epoch_count in range(epochs):\n",
    "    Weights.append(linear_model.Weight.numpy()) \n",
    "    Biases.append(linear_model.Bias.numpy())\n",
    "    real_loss = loss(y, linear_model(x))\n",
    "    train_step(linear_model, x, y, lr=0.12)\n",
    "    print(f\"Epoch count {epoch_count}: Loss value: {real_loss.numpy()}\")"
   ]
  },
  {
   "cell_type": "code",
   "execution_count": 21,
   "metadata": {},
   "outputs": [
    {
     "data": {
      "text/plain": [
       "(1.9286011, -0.8068646)"
      ]
     },
     "execution_count": 21,
     "metadata": {},
     "output_type": "execute_result"
    }
   ],
   "source": [
    "linear_model.Weight.numpy(), linear_model.Bias.numpy()"
   ]
  },
  {
   "cell_type": "code",
   "execution_count": 22,
   "metadata": {},
   "outputs": [],
   "source": [
    "RMSE = loss(y, linear_model(x))"
   ]
  },
  {
   "cell_type": "code",
   "execution_count": 23,
   "metadata": {},
   "outputs": [
    {
     "data": {
      "text/plain": [
       "0.099601604"
      ]
     },
     "execution_count": 23,
     "metadata": {},
     "output_type": "execute_result"
    }
   ],
   "source": [
    "RMSE.numpy()"
   ]
  },
  {
   "cell_type": "code",
   "execution_count": null,
   "metadata": {},
   "outputs": [],
   "source": []
  }
 ],
 "metadata": {
  "kernelspec": {
   "display_name": "Python 3",
   "language": "python",
   "name": "python3"
  },
  "language_info": {
   "codemirror_mode": {
    "name": "ipython",
    "version": 3
   },
   "file_extension": ".py",
   "mimetype": "text/x-python",
   "name": "python",
   "nbconvert_exporter": "python",
   "pygments_lexer": "ipython3",
   "version": "3.8.6"
  }
 },
 "nbformat": 4,
 "nbformat_minor": 4
}
