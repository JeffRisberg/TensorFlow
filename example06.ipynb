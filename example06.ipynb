{
 "cells": [
  {
   "cell_type": "markdown",
   "metadata": {},
   "source": [
    "### Using TensorFlow to solve a Linear Regression problem\n",
    "y = weight * x + bias\n",
    "\n",
    "This is from https://github.com/dhirajk100/LRTF2/blob/master/LR%20with%20TF%20%20Dhiraj.ipynb"
   ]
  },
  {
   "cell_type": "code",
   "execution_count": 1,
   "metadata": {},
   "outputs": [],
   "source": [
    "import numpy as np\n",
    "import tensorflow as tf\n",
    "import matplotlib.pyplot as plt"
   ]
  },
  {
   "cell_type": "code",
   "execution_count": 2,
   "metadata": {},
   "outputs": [],
   "source": [
    "# actual weight = 2 and actual bias = 0.9\n",
    "x = np.linspace(0, 3, 120)\n",
    "y = 2 * x + 0.9 + np.random.randn(*x.shape) * 0.3"
   ]
  },
  {
   "cell_type": "code",
   "execution_count": 3,
   "metadata": {},
   "outputs": [
    {
     "data": {
      "text/plain": [
       "<matplotlib.collections.PathCollection at 0x14268a190>"
      ]
     },
     "execution_count": 3,
     "metadata": {},
     "output_type": "execute_result"
    },
    {
     "data": {
      "image/png": "[encoded data removed]",
      "text/plain": [
       "<Figure size 432x288 with 1 Axes>"
      ]
     },
     "metadata": {
      "needs_background": "light"
     },
     "output_type": "display_data"
    }
   ],
   "source": [
    "plt.scatter(x,y, label=\"input data set\")"
   ]
  },
  {
   "cell_type": "code",
   "execution_count": 4,
   "metadata": {},
   "outputs": [],
   "source": [
    "class LinearModel:\n",
    "    def __call__(self, x):\n",
    "        return self.Weight * x + self.Bias\n",
    "    \n",
    "    def __init__(self):\n",
    "        self.Weight = tf.Variable(11.0)\n",
    "        self.Bias = tf.Variable(12.0)"
   ]
  },
  {
   "cell_type": "code",
   "execution_count": 5,
   "metadata": {},
   "outputs": [],
   "source": [
    "def loss(y, pred):\n",
    "    return tf.reduce_mean(tf.square(y - pred))\n",
    "\n",
    "def train(linear_model, x, y, lr=0.12):\n",
    "    with tf.GradientTape() as t:\n",
    "        current_loss = loss(y, linear_model(x))\n",
    "\n",
    "    lr_weight, lr_bias = t.gradient(current_loss, [linear_model.Weight, linear_model.Bias])\n",
    "    linear_model.Weight.assign_sub(lr * lr_weight)\n",
    "    linear_model.Bias.assign_sub(lr * lr_bias)"
   ]
  },
  {
   "cell_type": "code",
   "execution_count": 6,
   "metadata": {},
   "outputs": [
    {
     "name": "stdout",
     "output_type": "stream",
     "text": [
      "Epoch count 0: Loss value: 667.5782470703125\n",
      "Epoch count 1: Loss value: 10.35215950012207\n",
      "Epoch count 2: Loss value: 5.095494747161865\n",
      "Epoch count 3: Loss value: 4.594954967498779\n",
      "Epoch count 4: Loss value: 4.172109127044678\n",
      "Epoch count 5: Loss value: 3.789109230041504\n",
      "Epoch count 6: Loss value: 3.4420006275177\n",
      "Epoch count 7: Loss value: 3.127418041229248\n",
      "Epoch count 8: Loss value: 2.8423144817352295\n",
      "Epoch count 9: Loss value: 2.5839266777038574\n",
      "Epoch count 10: Loss value: 2.3497517108917236\n",
      "Epoch count 11: Loss value: 2.1375203132629395\n",
      "Epoch count 12: Loss value: 1.9451762437820435\n",
      "Epoch count 13: Loss value: 1.7708561420440674\n",
      "Epoch count 14: Loss value: 1.6128709316253662\n",
      "Epoch count 15: Loss value: 1.469689965248108\n",
      "Epoch count 16: Loss value: 1.33992600440979\n",
      "Epoch count 17: Loss value: 1.2223219871520996\n",
      "Epoch count 18: Loss value: 1.1157381534576416\n",
      "Epoch count 19: Loss value: 1.0191419124603271\n",
      "Epoch count 20: Loss value: 0.9315974116325378\n",
      "Epoch count 21: Loss value: 0.8522562384605408\n",
      "Epoch count 22: Loss value: 0.7803500890731812\n",
      "Epoch count 23: Loss value: 0.7151820659637451\n",
      "Epoch count 24: Loss value: 0.6561205387115479\n",
      "Epoch count 25: Loss value: 0.6025936007499695\n",
      "Epoch count 26: Loss value: 0.5540823340415955\n",
      "Epoch count 27: Loss value: 0.5101169943809509\n",
      "Epoch count 28: Loss value: 0.4702715575695038\n",
      "Epoch count 29: Loss value: 0.4341598451137543\n",
      "Epoch count 30: Loss value: 0.4014320373535156\n",
      "Epoch count 31: Loss value: 0.37177103757858276\n",
      "Epoch count 32: Loss value: 0.34488949179649353\n",
      "Epoch count 33: Loss value: 0.3205268979072571\n",
      "Epoch count 34: Loss value: 0.29844722151756287\n",
      "Epoch count 35: Loss value: 0.278436541557312\n",
      "Epoch count 36: Loss value: 0.2603010833263397\n",
      "Epoch count 37: Loss value: 0.2438649833202362\n",
      "Epoch count 38: Loss value: 0.2289690226316452\n",
      "Epoch count 39: Loss value: 0.21546892821788788\n",
      "Epoch count 40: Loss value: 0.20323389768600464\n",
      "Epoch count 41: Loss value: 0.19214537739753723\n",
      "Epoch count 42: Loss value: 0.1820959597826004\n",
      "Epoch count 43: Loss value: 0.172988161444664\n",
      "Epoch count 44: Loss value: 0.16473388671875\n",
      "Epoch count 45: Loss value: 0.15725307166576385\n",
      "Epoch count 46: Loss value: 0.15047325193881989\n",
      "Epoch count 47: Loss value: 0.1443287432193756\n",
      "Epoch count 48: Loss value: 0.1387600153684616\n",
      "Epoch count 49: Loss value: 0.13371308147907257\n",
      "Epoch count 50: Loss value: 0.12913912534713745\n",
      "Epoch count 51: Loss value: 0.12499378621578217\n",
      "Epoch count 52: Loss value: 0.1212368980050087\n",
      "Epoch count 53: Loss value: 0.1178320124745369\n",
      "Epoch count 54: Loss value: 0.11474622786045074\n",
      "Epoch count 55: Loss value: 0.11194957792758942\n",
      "Epoch count 56: Loss value: 0.10941500961780548\n",
      "Epoch count 57: Loss value: 0.10711792856454849\n",
      "Epoch count 58: Loss value: 0.10503610223531723\n",
      "Epoch count 59: Loss value: 0.10314933955669403\n",
      "Epoch count 60: Loss value: 0.10143943130970001\n",
      "Epoch count 61: Loss value: 0.09988972544670105\n",
      "Epoch count 62: Loss value: 0.09848521649837494\n",
      "Epoch count 63: Loss value: 0.09721234440803528\n",
      "Epoch count 64: Loss value: 0.09605871886014938\n",
      "Epoch count 65: Loss value: 0.09501322358846664\n",
      "Epoch count 66: Loss value: 0.09406569600105286\n",
      "Epoch count 67: Loss value: 0.09320694953203201\n",
      "Epoch count 68: Loss value: 0.09242868423461914\n",
      "Epoch count 69: Loss value: 0.09172333776950836\n",
      "Epoch count 70: Loss value: 0.0910840854048729\n",
      "Epoch count 71: Loss value: 0.09050474315881729\n",
      "Epoch count 72: Loss value: 0.08997969329357147\n",
      "Epoch count 73: Loss value: 0.08950384706258774\n",
      "Epoch count 74: Loss value: 0.0890725627541542\n",
      "Epoch count 75: Loss value: 0.08868172764778137\n",
      "Epoch count 76: Loss value: 0.08832748979330063\n",
      "Epoch count 77: Loss value: 0.08800645172595978\n",
      "Epoch count 78: Loss value: 0.0877155140042305\n",
      "Epoch count 79: Loss value: 0.08745182305574417\n"
     ]
    }
   ],
   "source": [
    "linear_model = LinearModel()\n",
    "Weights, Biases = [], []\n",
    "epochs = 80\n",
    "for epoch_count in range(epochs):\n",
    "    Weights.append(linear_model.Weight.numpy()) \n",
    "    Biases.append(linear_model.Bias.numpy())\n",
    "    real_loss = loss(y, linear_model(x))\n",
    "    train(linear_model, x, y, lr=0.12)\n",
    "    print(f\"Epoch count {epoch_count}: Loss value: {real_loss.numpy()}\")"
   ]
  },
  {
   "cell_type": "code",
   "execution_count": 7,
   "metadata": {},
   "outputs": [
    {
     "data": {
      "text/plain": [
       "(1.9172639, 1.0406333)"
      ]
     },
     "execution_count": 7,
     "metadata": {},
     "output_type": "execute_result"
    }
   ],
   "source": [
    "linear_model.Weight.numpy(), linear_model.Bias.numpy()"
   ]
  },
  {
   "cell_type": "code",
   "execution_count": 8,
   "metadata": {},
   "outputs": [],
   "source": [
    "RMSE = loss(y, linear_model(x))"
   ]
  },
  {
   "cell_type": "code",
   "execution_count": 9,
   "metadata": {},
   "outputs": [
    {
     "data": {
      "text/plain": [
       "0.087212846"
      ]
     },
     "execution_count": 9,
     "metadata": {},
     "output_type": "execute_result"
    }
   ],
   "source": [
    "RMSE.numpy()"
   ]
  },
  {
   "cell_type": "code",
   "execution_count": null,
   "metadata": {},
   "outputs": [],
   "source": []
  }
 ],
 "metadata": {
  "kernelspec": {
   "display_name": "Python 3",
   "language": "python",
   "name": "python3"
  },
  "language_info": {
   "codemirror_mode": {
    "name": "ipython",
    "version": 3
   },
   "file_extension": ".py",
   "mimetype": "text/x-python",
   "name": "python",
   "nbconvert_exporter": "python",
   "pygments_lexer": "ipython3",
   "version": "3.8.6"
  }
 },
 "nbformat": 4,
 "nbformat_minor": 4
}
